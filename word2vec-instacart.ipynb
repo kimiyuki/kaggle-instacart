{
 "cells": [
  {
   "cell_type": "code",
   "execution_count": 1,
   "metadata": {
    "collapsed": true
   },
   "outputs": [],
   "source": [
    "import pandas as pd\n",
    "import numpy as np\n",
    "import gensim\n",
    "from matplotlib import pyplot as plt\n",
    "from sklearn.manifold import TSNE\n",
    "\n",
    "%matplotlib inline"
   ]
  },
  {
   "cell_type": "code",
   "execution_count": 2,
   "metadata": {
    "collapsed": true
   },
   "outputs": [],
   "source": [
    "train_orders = pd.read_csv(\"data/order_products__train.csv\")\n",
    "prior_orders = pd.read_csv(\"data/order_products__prior.csv\")\n",
    "products = pd.read_csv(\"data/products.csv\").set_index('product_id')"
   ]
  },
  {
   "cell_type": "code",
   "execution_count": 3,
   "metadata": {
    "collapsed": true
   },
   "outputs": [],
   "source": [
    "train_orders[\"product_id\"] = train_orders[\"product_id\"].astype(str)\n",
    "prior_orders[\"product_id\"] = prior_orders[\"product_id\"].astype(str)"
   ]
  },
  {
   "cell_type": "code",
   "execution_count": 3,
   "metadata": {
    "collapsed": true
   },
   "outputs": [],
   "source": [
    "train_products = train_orders.groupby(\"order_id\").apply(lambda order: order['product_id'].tolist())\n",
    "prior_products = prior_orders.groupby(\"order_id\").apply(lambda order: order['product_id'].tolist())"
   ]
  },
  {
   "cell_type": "code",
   "execution_count": 4,
   "metadata": {},
   "outputs": [
    {
     "data": {
      "text/plain": [
       "order_id\n",
       "1     [49302, 11109, 10246, 49683, 43633, 13176, 472...\n",
       "36    [39612, 19660, 49235, 43086, 46620, 34497, 486...\n",
       "38    [11913, 18159, 4461, 21616, 23622, 32433, 2884...\n",
       "96    [20574, 30391, 40706, 25610, 27966, 24489, 39275]\n",
       "98    [8859, 19731, 43654, 13176, 4357, 37664, 34065...\n",
       "dtype: object"
      ]
     },
     "execution_count": 4,
     "metadata": {},
     "output_type": "execute_result"
    }
   ],
   "source": [
    "train_products.head()"
   ]
  }
 ],
 "metadata": {
  "kernelspec": {
   "display_name": "Python 3",
   "language": "python",
   "name": "python3"
  },
  "language_info": {
   "codemirror_mode": {
    "name": "ipython",
    "version": 3
   },
   "file_extension": ".py",
   "mimetype": "text/x-python",
   "name": "python",
   "nbconvert_exporter": "python",
   "pygments_lexer": "ipython3",
   "version": "3.6.1"
  }
 },
 "nbformat": 4,
 "nbformat_minor": 2
}
